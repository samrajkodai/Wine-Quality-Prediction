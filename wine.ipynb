{
  "nbformat": 4,
  "nbformat_minor": 0,
  "metadata": {
    "colab": {
      "name": "wine.ipynb",
      "provenance": []
    },
    "kernelspec": {
      "name": "python3",
      "display_name": "Python 3"
    },
    "language_info": {
      "name": "python"
    }
  },
  "cells": [
    {
      "cell_type": "code",
      "metadata": {
        "id": "ihG3hCcnYsA5"
      },
      "source": [
        "import pandas as pd\n",
        "import numpy as np\n",
        "df=pd.read_csv('wine_train.csv',header=0)"
      ],
      "execution_count": 4,
      "outputs": []
    },
    {
      "cell_type": "code",
      "metadata": {
        "colab": {
          "base_uri": "https://localhost:8080/",
          "height": 226
        },
        "id": "aVbZcyq6ahxk",
        "outputId": "f7e828c6-b3eb-4c26-9a3c-2c31f474d200"
      },
      "source": [
        "df.head()"
      ],
      "execution_count": 5,
      "outputs": [
        {
          "output_type": "execute_result",
          "data": {
            "text/html": [
              "<div>\n",
              "<style scoped>\n",
              "    .dataframe tbody tr th:only-of-type {\n",
              "        vertical-align: middle;\n",
              "    }\n",
              "\n",
              "    .dataframe tbody tr th {\n",
              "        vertical-align: top;\n",
              "    }\n",
              "\n",
              "    .dataframe thead th {\n",
              "        text-align: right;\n",
              "    }\n",
              "</style>\n",
              "<table border=\"1\" class=\"dataframe\">\n",
              "  <thead>\n",
              "    <tr style=\"text-align: right;\">\n",
              "      <th></th>\n",
              "      <th>fixed.acidity</th>\n",
              "      <th>volatile.acidity</th>\n",
              "      <th>citric.acid</th>\n",
              "      <th>residual.sugar</th>\n",
              "      <th>chlorides</th>\n",
              "      <th>free.sulfur.dioxide</th>\n",
              "      <th>total.sulfur.dioxide</th>\n",
              "      <th>density</th>\n",
              "      <th>pH</th>\n",
              "      <th>sulphates</th>\n",
              "      <th>alcohol</th>\n",
              "      <th>quality</th>\n",
              "    </tr>\n",
              "  </thead>\n",
              "  <tbody>\n",
              "    <tr>\n",
              "      <th>0</th>\n",
              "      <td>9.0</td>\n",
              "      <td>0.245</td>\n",
              "      <td>0.38</td>\n",
              "      <td>5.9</td>\n",
              "      <td>0.045</td>\n",
              "      <td>52.0</td>\n",
              "      <td>159.0</td>\n",
              "      <td>0.99500</td>\n",
              "      <td>2.93</td>\n",
              "      <td>0.35</td>\n",
              "      <td>10.2</td>\n",
              "      <td>6</td>\n",
              "    </tr>\n",
              "    <tr>\n",
              "      <th>1</th>\n",
              "      <td>8.2</td>\n",
              "      <td>0.420</td>\n",
              "      <td>0.29</td>\n",
              "      <td>4.1</td>\n",
              "      <td>0.030</td>\n",
              "      <td>31.0</td>\n",
              "      <td>100.0</td>\n",
              "      <td>0.99110</td>\n",
              "      <td>3.00</td>\n",
              "      <td>0.32</td>\n",
              "      <td>12.8</td>\n",
              "      <td>7</td>\n",
              "    </tr>\n",
              "    <tr>\n",
              "      <th>2</th>\n",
              "      <td>6.4</td>\n",
              "      <td>0.220</td>\n",
              "      <td>0.32</td>\n",
              "      <td>7.2</td>\n",
              "      <td>0.028</td>\n",
              "      <td>15.0</td>\n",
              "      <td>83.0</td>\n",
              "      <td>0.99300</td>\n",
              "      <td>3.13</td>\n",
              "      <td>0.55</td>\n",
              "      <td>10.9</td>\n",
              "      <td>8</td>\n",
              "    </tr>\n",
              "    <tr>\n",
              "      <th>3</th>\n",
              "      <td>5.0</td>\n",
              "      <td>0.350</td>\n",
              "      <td>0.25</td>\n",
              "      <td>7.8</td>\n",
              "      <td>0.031</td>\n",
              "      <td>24.0</td>\n",
              "      <td>116.0</td>\n",
              "      <td>0.99241</td>\n",
              "      <td>3.39</td>\n",
              "      <td>0.40</td>\n",
              "      <td>11.3</td>\n",
              "      <td>6</td>\n",
              "    </tr>\n",
              "    <tr>\n",
              "      <th>4</th>\n",
              "      <td>7.4</td>\n",
              "      <td>0.300</td>\n",
              "      <td>0.30</td>\n",
              "      <td>5.2</td>\n",
              "      <td>0.053</td>\n",
              "      <td>45.0</td>\n",
              "      <td>163.0</td>\n",
              "      <td>0.99410</td>\n",
              "      <td>3.12</td>\n",
              "      <td>0.45</td>\n",
              "      <td>10.3</td>\n",
              "      <td>6</td>\n",
              "    </tr>\n",
              "  </tbody>\n",
              "</table>\n",
              "</div>"
            ],
            "text/plain": [
              "   fixed.acidity  volatile.acidity  citric.acid  ...  sulphates  alcohol  quality\n",
              "0            9.0             0.245         0.38  ...       0.35     10.2        6\n",
              "1            8.2             0.420         0.29  ...       0.32     12.8        7\n",
              "2            6.4             0.220         0.32  ...       0.55     10.9        8\n",
              "3            5.0             0.350         0.25  ...       0.40     11.3        6\n",
              "4            7.4             0.300         0.30  ...       0.45     10.3        6\n",
              "\n",
              "[5 rows x 12 columns]"
            ]
          },
          "metadata": {
            "tags": []
          },
          "execution_count": 5
        }
      ]
    },
    {
      "cell_type": "code",
      "metadata": {
        "colab": {
          "base_uri": "https://localhost:8080/"
        },
        "id": "73rky-w_ai76",
        "outputId": "742e2d6d-f350-40e4-e37f-dfa1ed6af0be"
      },
      "source": [
        "df.isnull().sum()"
      ],
      "execution_count": 3,
      "outputs": [
        {
          "output_type": "execute_result",
          "data": {
            "text/plain": [
              "fixed.acidity           0\n",
              "volatile.acidity        0\n",
              "citric.acid             0\n",
              "residual.sugar          0\n",
              "chlorides               0\n",
              "free.sulfur.dioxide     0\n",
              "total.sulfur.dioxide    0\n",
              "density                 0\n",
              "pH                      0\n",
              "sulphates               0\n",
              "alcohol                 0\n",
              "quality                 0\n",
              "dtype: int64"
            ]
          },
          "metadata": {
            "tags": []
          },
          "execution_count": 3
        }
      ]
    },
    {
      "cell_type": "code",
      "metadata": {
        "colab": {
          "base_uri": "https://localhost:8080/"
        },
        "id": "E_IcmLx_anyz",
        "outputId": "975d41d1-c6f4-4aa5-b4e4-bd53a86c5354"
      },
      "source": [
        "df.info()"
      ],
      "execution_count": 7,
      "outputs": [
        {
          "output_type": "stream",
          "text": [
            "<class 'pandas.core.frame.DataFrame'>\n",
            "RangeIndex: 3673 entries, 0 to 3672\n",
            "Data columns (total 12 columns):\n",
            " #   Column                Non-Null Count  Dtype  \n",
            "---  ------                --------------  -----  \n",
            " 0   fixed.acidity         3673 non-null   float64\n",
            " 1   volatile.acidity      3673 non-null   float64\n",
            " 2   citric.acid           3673 non-null   float64\n",
            " 3   residual.sugar        3673 non-null   float64\n",
            " 4   chlorides             3673 non-null   float64\n",
            " 5   free.sulfur.dioxide   3673 non-null   float64\n",
            " 6   total.sulfur.dioxide  3673 non-null   float64\n",
            " 7   density               3673 non-null   float64\n",
            " 8   pH                    3673 non-null   float64\n",
            " 9   sulphates             3673 non-null   float64\n",
            " 10  alcohol               3673 non-null   float64\n",
            " 11  quality               3673 non-null   int64  \n",
            "dtypes: float64(11), int64(1)\n",
            "memory usage: 344.5 KB\n"
          ],
          "name": "stdout"
        }
      ]
    },
    {
      "cell_type": "code",
      "metadata": {
        "id": "wj7TqCqzbQ5a"
      },
      "source": [
        "x=df.iloc[:,:-1].values\n",
        "y=df.iloc[:,-1].values"
      ],
      "execution_count": 9,
      "outputs": []
    },
    {
      "cell_type": "code",
      "metadata": {
        "id": "phRjfGuTa5w8"
      },
      "source": [
        "from sklearn.model_selection import train_test_split\n",
        "\n",
        "x_train,x_test,y_train,y_test=train_test_split(x,y,test_size=0.25,random_state=0)"
      ],
      "execution_count": 13,
      "outputs": []
    },
    {
      "cell_type": "code",
      "metadata": {
        "colab": {
          "base_uri": "https://localhost:8080/"
        },
        "id": "gsyuxCPSbkjB",
        "outputId": "57d0f7b7-01bc-41c4-bd81-9de6ab564188"
      },
      "source": [
        "from sklearn.preprocessing import StandardScaler\n",
        "sc=StandardScaler()\n",
        "sc.fit_transform(x_train,y_train)\n",
        "sc.fit(x_test)"
      ],
      "execution_count": 17,
      "outputs": [
        {
          "output_type": "execute_result",
          "data": {
            "text/plain": [
              "StandardScaler(copy=True, with_mean=True, with_std=True)"
            ]
          },
          "metadata": {
            "tags": []
          },
          "execution_count": 17
        }
      ]
    },
    {
      "cell_type": "code",
      "metadata": {
        "colab": {
          "base_uri": "https://localhost:8080/"
        },
        "id": "2k2U8TEVcaEU",
        "outputId": "93b1c88e-723c-40f3-ccfb-3e2932452fa1"
      },
      "source": [
        "print(x_train,y_train)"
      ],
      "execution_count": 19,
      "outputs": [
        {
          "output_type": "stream",
          "text": [
            "[[ 6.8   0.32  0.32 ...  3.    0.34 12.3 ]\n",
            " [ 6.    0.33  0.26 ...  3.15  0.41  9.2 ]\n",
            " [ 8.    0.32  0.36 ...  3.29  0.47 12.  ]\n",
            " ...\n",
            " [ 8.3   0.22  0.38 ...  3.22  0.5   9.7 ]\n",
            " [ 8.    0.23  0.46 ...  3.23  0.47 12.5 ]\n",
            " [ 6.1   0.19  0.37 ...  3.18  0.5  10.9 ]] [7 5 6 ... 5 6 6]\n"
          ],
          "name": "stdout"
        }
      ]
    },
    {
      "cell_type": "code",
      "metadata": {
        "colab": {
          "base_uri": "https://localhost:8080/"
        },
        "id": "y9J6BXoTcfiE",
        "outputId": "e4ebf81c-888a-44de-8476-490a30cb8e48"
      },
      "source": [
        "from sklearn.ensemble import RandomForestClassifier\n",
        "cl=RandomForestClassifier(n_estimators=200,criterion='entropy',random_state=0)\n",
        "cl.fit(x_train,y_train)"
      ],
      "execution_count": 59,
      "outputs": [
        {
          "output_type": "execute_result",
          "data": {
            "text/plain": [
              "RandomForestClassifier(bootstrap=True, ccp_alpha=0.0, class_weight=None,\n",
              "                       criterion='entropy', max_depth=None, max_features='auto',\n",
              "                       max_leaf_nodes=None, max_samples=None,\n",
              "                       min_impurity_decrease=0.0, min_impurity_split=None,\n",
              "                       min_samples_leaf=1, min_samples_split=2,\n",
              "                       min_weight_fraction_leaf=0.0, n_estimators=200,\n",
              "                       n_jobs=None, oob_score=False, random_state=0, verbose=0,\n",
              "                       warm_start=False)"
            ]
          },
          "metadata": {
            "tags": []
          },
          "execution_count": 59
        }
      ]
    },
    {
      "cell_type": "code",
      "metadata": {
        "id": "T1Z4VnSQdCi6"
      },
      "source": [
        "y_pred=cl.predict(x_test)"
      ],
      "execution_count": 60,
      "outputs": []
    },
    {
      "cell_type": "code",
      "metadata": {
        "colab": {
          "base_uri": "https://localhost:8080/"
        },
        "id": "aYuY3nfbda_f",
        "outputId": "92a50d81-c2d7-49be-9046-82fa100c76fe"
      },
      "source": [
        "from sklearn.metrics import accuracy_score\n",
        "print(accuracy_score(y_test,y_pred))"
      ],
      "execution_count": 58,
      "outputs": [
        {
          "output_type": "stream",
          "text": [
            "0.6550598476605005\n"
          ],
          "name": "stdout"
        }
      ]
    },
    {
      "cell_type": "code",
      "metadata": {
        "colab": {
          "base_uri": "https://localhost:8080/"
        },
        "id": "cHrZJnnMe_KH",
        "outputId": "d444826a-8a5b-41b3-c971-36809c42a848"
      },
      "source": [
        "y_pred"
      ],
      "execution_count": 61,
      "outputs": [
        {
          "output_type": "execute_result",
          "data": {
            "text/plain": [
              "array([6, 6, 5, 7, 6, 6, 6, 5, 5, 5, 6, 6, 6, 5, 5, 6, 7, 5, 6, 6, 6, 6,\n",
              "       6, 5, 7, 6, 6, 5, 7, 6, 5, 6, 5, 6, 6, 6, 6, 7, 7, 5, 6, 6, 6, 6,\n",
              "       5, 6, 7, 6, 6, 5, 6, 7, 6, 6, 6, 5, 5, 6, 5, 5, 6, 6, 7, 7, 5, 6,\n",
              "       5, 6, 6, 5, 5, 5, 6, 6, 7, 7, 6, 6, 7, 6, 6, 5, 6, 6, 6, 6, 6, 7,\n",
              "       6, 5, 6, 5, 5, 6, 6, 5, 6, 7, 6, 6, 6, 5, 6, 5, 5, 6, 7, 5, 6, 5,\n",
              "       7, 6, 5, 6, 5, 5, 7, 6, 7, 6, 5, 6, 6, 5, 6, 5, 6, 8, 6, 5, 6, 6,\n",
              "       5, 6, 6, 6, 6, 6, 5, 6, 7, 6, 6, 6, 6, 6, 6, 5, 5, 6, 7, 6, 6, 6,\n",
              "       7, 6, 5, 6, 7, 5, 6, 6, 6, 6, 6, 7, 5, 5, 6, 6, 6, 6, 5, 5, 6, 5,\n",
              "       6, 6, 6, 5, 5, 5, 6, 5, 5, 6, 5, 6, 5, 6, 6, 6, 6, 6, 5, 6, 6, 5,\n",
              "       6, 5, 5, 5, 6, 7, 6, 5, 6, 5, 5, 6, 5, 6, 6, 6, 6, 6, 7, 6, 6, 5,\n",
              "       5, 6, 6, 6, 6, 6, 8, 6, 6, 6, 5, 6, 4, 5, 6, 5, 5, 5, 5, 6, 6, 6,\n",
              "       6, 5, 5, 5, 6, 6, 6, 6, 8, 6, 7, 7, 6, 6, 6, 5, 6, 5, 6, 6, 6, 6,\n",
              "       6, 5, 6, 5, 6, 5, 6, 7, 6, 6, 6, 6, 6, 6, 6, 7, 5, 6, 5, 5, 7, 6,\n",
              "       5, 5, 7, 6, 5, 6, 5, 6, 6, 7, 5, 7, 7, 6, 6, 6, 6, 6, 6, 7, 6, 7,\n",
              "       6, 5, 6, 6, 6, 6, 5, 6, 6, 6, 4, 7, 6, 6, 6, 5, 6, 5, 7, 5, 5, 7,\n",
              "       6, 6, 6, 5, 6, 6, 7, 5, 6, 7, 6, 7, 6, 5, 6, 6, 7, 6, 6, 6, 6, 5,\n",
              "       5, 6, 6, 7, 6, 6, 6, 7, 6, 6, 6, 7, 5, 7, 5, 5, 5, 5, 7, 5, 6, 6,\n",
              "       6, 7, 5, 5, 6, 8, 6, 6, 7, 5, 5, 6, 7, 6, 5, 6, 6, 6, 6, 7, 7, 5,\n",
              "       5, 5, 6, 7, 6, 5, 6, 6, 6, 6, 6, 6, 5, 6, 6, 7, 6, 6, 5, 7, 6, 5,\n",
              "       5, 5, 6, 5, 6, 6, 6, 5, 6, 5, 5, 5, 5, 6, 7, 6, 5, 6, 6, 6, 5, 7,\n",
              "       6, 5, 6, 6, 6, 6, 6, 6, 5, 6, 7, 5, 5, 6, 5, 6, 6, 6, 6, 6, 6, 5,\n",
              "       5, 6, 7, 7, 7, 7, 6, 6, 6, 6, 6, 6, 5, 5, 6, 6, 5, 7, 5, 6, 6, 6,\n",
              "       6, 6, 6, 7, 6, 5, 6, 6, 6, 6, 6, 6, 5, 6, 5, 6, 6, 6, 5, 6, 5, 5,\n",
              "       5, 6, 5, 7, 6, 5, 7, 5, 5, 6, 4, 5, 5, 6, 6, 6, 6, 6, 6, 6, 7, 5,\n",
              "       6, 6, 6, 7, 6, 5, 5, 6, 6, 6, 6, 5, 5, 6, 5, 6, 6, 6, 6, 4, 6, 6,\n",
              "       5, 6, 6, 6, 5, 5, 5, 5, 7, 6, 5, 5, 5, 6, 5, 6, 5, 7, 6, 6, 5, 6,\n",
              "       5, 5, 6, 7, 5, 6, 6, 6, 5, 6, 6, 6, 6, 6, 6, 6, 6, 5, 6, 4, 8, 5,\n",
              "       6, 6, 6, 6, 7, 7, 6, 6, 7, 6, 5, 7, 6, 6, 7, 7, 7, 5, 5, 5, 5, 6,\n",
              "       6, 6, 6, 7, 6, 6, 6, 6, 5, 5, 7, 6, 7, 6, 6, 4, 7, 5, 8, 6, 5, 6,\n",
              "       6, 5, 6, 6, 6, 6, 6, 5, 6, 5, 5, 6, 6, 6, 6, 5, 5, 7, 5, 6, 6, 6,\n",
              "       6, 6, 7, 6, 5, 5, 6, 6, 7, 6, 5, 6, 6, 6, 6, 6, 6, 7, 6, 6, 6, 6,\n",
              "       5, 6, 6, 7, 7, 4, 5, 5, 6, 6, 5, 5, 6, 6, 6, 5, 6, 5, 6, 5, 5, 5,\n",
              "       8, 6, 7, 6, 7, 6, 5, 5, 6, 5, 5, 6, 6, 5, 5, 5, 5, 5, 6, 6, 5, 5,\n",
              "       5, 7, 6, 6, 5, 6, 6, 5, 6, 6, 6, 7, 6, 6, 5, 8, 6, 7, 7, 5, 6, 6,\n",
              "       6, 6, 6, 7, 5, 5, 6, 5, 7, 5, 6, 5, 8, 5, 5, 6, 6, 6, 8, 7, 6, 6,\n",
              "       5, 6, 6, 6, 6, 5, 5, 7, 5, 6, 7, 6, 6, 6, 8, 6, 6, 5, 8, 6, 7, 6,\n",
              "       5, 5, 6, 6, 7, 7, 6, 5, 6, 6, 5, 6, 5, 6, 6, 6, 6, 6, 6, 5, 5, 6,\n",
              "       5, 5, 8, 5, 6, 6, 6, 6, 6, 5, 6, 5, 5, 6, 6, 6, 6, 5, 6, 6, 5, 5,\n",
              "       6, 6, 5, 6, 7, 7, 6, 5, 6, 7, 5, 6, 6, 6, 5, 6, 6, 5, 6, 6, 6, 6,\n",
              "       5, 6, 8, 5, 6, 6, 6, 7, 6, 6, 6, 5, 6, 6, 6, 6, 6, 6, 6, 7, 6, 6,\n",
              "       6, 6, 6, 6, 6, 6, 7, 6, 6, 6, 5, 5, 6, 5, 6, 6, 6, 5, 7, 8, 6, 5,\n",
              "       6, 7, 5, 6, 5, 6, 6, 5, 7, 4, 5, 6, 6, 5, 6, 6, 6])"
            ]
          },
          "metadata": {
            "tags": []
          },
          "execution_count": 61
        }
      ]
    },
    {
      "cell_type": "code",
      "metadata": {
        "id": "aHZioUIphpZz"
      },
      "source": [
        "taste=[]\n",
        "for i in y_pred:\n",
        "  if i<6:\n",
        "    n='good'\n",
        "    taste.append(n)\n",
        "  elif i==6:\n",
        "    n='normal'\n",
        "    taste.append(n)\n",
        "  else:\n",
        "    n='bad'\n",
        "    taste.append(n)\n"
      ],
      "execution_count": 65,
      "outputs": []
    },
    {
      "cell_type": "code",
      "metadata": {
        "id": "VzsqYYZiiKCo"
      },
      "source": [
        "taste1=np.array(taste)"
      ],
      "execution_count": 73,
      "outputs": []
    },
    {
      "cell_type": "code",
      "metadata": {
        "colab": {
          "base_uri": "https://localhost:8080/"
        },
        "id": "JLx2V4RtieuS",
        "outputId": "95cd5e98-05dc-4c48-d134-46a6ff7ba075"
      },
      "source": [
        "print(np.concatenate((y_pred.reshape(len(y_pred),1), taste1.reshape(len(taste1),1)),1))"
      ],
      "execution_count": 76,
      "outputs": [
        {
          "output_type": "stream",
          "text": [
            "[['6' 'normal']\n",
            " ['6' 'normal']\n",
            " ['5' 'good']\n",
            " ...\n",
            " ['6' 'normal']\n",
            " ['6' 'normal']\n",
            " ['6' 'normal']]\n"
          ],
          "name": "stdout"
        }
      ]
    }
  ]
}